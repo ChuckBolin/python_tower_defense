{
 "cells": [
  {
   "cell_type": "markdown",
   "id": "77b4cd1b-42c7-4c5d-a71b-7bb91f75ffef",
   "metadata": {},
   "source": [
    "# Prototype_Dev_Testing\n",
    "*Chuck Bolin, Updated November 2024*  \n"
   ]
  },
  {
   "cell_type": "markdown",
   "id": "a083b266-f66e-432b-8273-ec32ded35e73",
   "metadata": {},
   "source": [
    "### Show pygame Keys"
   ]
  },
  {
   "cell_type": "code",
   "execution_count": 1,
   "id": "2f559ed6-f198-4a9a-aaf8-5f556d471800",
   "metadata": {
    "scrolled": true
   },
   "outputs": [
    {
     "name": "stdout",
     "output_type": "stream",
     "text": [
      "pygame 2.6.1 (SDL 2.28.4, Python 3.13.0)\n",
      "Hello from the pygame community. https://www.pygame.org/contribute.html\n",
      "['K_0', 'K_1', 'K_2', 'K_3', 'K_4', 'K_5', 'K_6', 'K_7', 'K_8', 'K_9', 'K_AC_BACK', 'K_AMPERSAND', 'K_ASTERISK', 'K_AT', 'K_BACKQUOTE', 'K_BACKSLASH', 'K_BACKSPACE', 'K_BREAK', 'K_CAPSLOCK', 'K_CARET', 'K_CLEAR', 'K_COLON', 'K_COMMA', 'K_CURRENCYSUBUNIT', 'K_CURRENCYUNIT', 'K_DELETE', 'K_DOLLAR', 'K_DOWN', 'K_END', 'K_EQUALS', 'K_ESCAPE', 'K_EURO', 'K_EXCLAIM', 'K_F1', 'K_F10', 'K_F11', 'K_F12', 'K_F13', 'K_F14', 'K_F15', 'K_F2', 'K_F3', 'K_F4', 'K_F5', 'K_F6', 'K_F7', 'K_F8', 'K_F9', 'K_GREATER', 'K_HASH', 'K_HELP', 'K_HOME', 'K_INSERT', 'K_KP0', 'K_KP1', 'K_KP2', 'K_KP3', 'K_KP4', 'K_KP5', 'K_KP6', 'K_KP7', 'K_KP8', 'K_KP9', 'K_KP_0', 'K_KP_1', 'K_KP_2', 'K_KP_3', 'K_KP_4', 'K_KP_5', 'K_KP_6', 'K_KP_7', 'K_KP_8', 'K_KP_9', 'K_KP_DIVIDE', 'K_KP_ENTER', 'K_KP_EQUALS', 'K_KP_MINUS', 'K_KP_MULTIPLY', 'K_KP_PERIOD', 'K_KP_PLUS', 'K_LALT', 'K_LCTRL', 'K_LEFT', 'K_LEFTBRACKET', 'K_LEFTPAREN', 'K_LESS', 'K_LGUI', 'K_LMETA', 'K_LSHIFT', 'K_LSUPER', 'K_MENU', 'K_MINUS', 'K_MODE', 'K_NUMLOCK', 'K_NUMLOCKCLEAR', 'K_PAGEDOWN', 'K_PAGEUP', 'K_PAUSE', 'K_PERCENT', 'K_PERIOD', 'K_PLUS', 'K_POWER', 'K_PRINT', 'K_PRINTSCREEN', 'K_QUESTION', 'K_QUOTE', 'K_QUOTEDBL', 'K_RALT', 'K_RCTRL', 'K_RETURN', 'K_RGUI', 'K_RIGHT', 'K_RIGHTBRACKET', 'K_RIGHTPAREN', 'K_RMETA', 'K_RSHIFT', 'K_RSUPER', 'K_SCROLLLOCK', 'K_SCROLLOCK', 'K_SEMICOLON', 'K_SLASH', 'K_SPACE', 'K_SYSREQ', 'K_TAB', 'K_UNDERSCORE', 'K_UNKNOWN', 'K_UP', 'K_a', 'K_b', 'K_c', 'K_d', 'K_e', 'K_f', 'K_g', 'K_h', 'K_i', 'K_j', 'K_k', 'K_l', 'K_m', 'K_n', 'K_o', 'K_p', 'K_q', 'K_r', 'K_s', 'K_t', 'K_u', 'K_v', 'K_w', 'K_x', 'K_y', 'K_z']\n"
     ]
    }
   ],
   "source": [
    "## Show pygame keys\n",
    "import pygame\n",
    "# keys = [attr for attr in dir(pygame) if attr.startswith('K_') and not attr[2:].isalnum()]\n",
    "keys = [attr for attr in sorted(dir(pygame)) if attr.startswith('K_') ]\n",
    "print(keys)"
   ]
  },
  {
   "cell_type": "markdown",
   "id": "2b5b6ef9-d6fa-4e8f-baef-3caa3082749c",
   "metadata": {},
   "source": [
    "### Pygame Load Tileset Render Image - Ignore Alpha"
   ]
  },
  {
   "cell_type": "code",
   "execution_count": 3,
   "id": "3c210f7e-00e7-4ee6-9a06-b09855af46c3",
   "metadata": {},
   "outputs": [
    {
     "data": {
      "image/png": "[encoded data removed]",
      "text/plain": [
       "<Figure size 640x480 with 1 Axes>"
      ]
     },
     "metadata": {},
     "output_type": "display_data"
    }
   ],
   "source": [
    "import pygame\n",
    "import numpy as np\n",
    "import matplotlib.pyplot as plt\n",
    "\n",
    "# Initialize pygame\n",
    "pygame.init()\n",
    "\n",
    "# Create a minimal display surface (required for pygame.surfarray)\n",
    "pygame.display.set_mode((1, 1))\n",
    "\n",
    "# Load the sprite sheet with the correct path\n",
    "sprite_sheet = pygame.image.load(\"./assets/sprites/effects.png\").convert_alpha()\n",
    "\n",
    "# Extract a sprite (e.g., x=0, y=0, width=64, height=64)\n",
    "sprite = sprite_sheet.subsurface((0, 0, 64, 64))\n",
    "\n",
    "# Convert the pygame.Surface to a NumPy array\n",
    "sprite_array = pygame.surfarray.array3d(sprite)\n",
    "\n",
    "# Transpose the array for proper rendering in matplotlib\n",
    "sprite_array = np.transpose(sprite_array, (1, 0, 2))\n",
    "\n",
    "# Render the sprite inline with matplotlib\n",
    "plt.imshow(sprite_array)\n",
    "plt.axis(\"off\")\n",
    "plt.show()\n"
   ]
  },
  {
   "cell_type": "markdown",
   "id": "1089afc3-0d2f-41f0-8816-b3bca86d62c0",
   "metadata": {},
   "source": [
    "### Pygame Load Tileset Render Image - Show Alpha Transparency"
   ]
  },
  {
   "cell_type": "code",
   "execution_count": 4,
   "id": "0f3760c4-6a70-44ca-865f-515dc940488e",
   "metadata": {
    "scrolled": true
   },
   "outputs": [
    {
     "data": {
      "image/png": "[encoded data removed]",
      "text/plain": [
       "<Figure size 640x480 with 1 Axes>"
      ]
     },
     "metadata": {},
     "output_type": "display_data"
    }
   ],
   "source": [
    "import pygame\n",
    "import numpy as np\n",
    "import matplotlib.pyplot as plt\n",
    "\n",
    "# Initialize pygame\n",
    "pygame.init()\n",
    "\n",
    "# Create a minimal display surface (required for pygame.surfarray)\n",
    "pygame.display.set_mode((1, 1))\n",
    "\n",
    "# Load the sprite sheet with transparency\n",
    "sprite_sheet = pygame.image.load(\"./assets/sprites/effects.png\").convert_alpha()\n",
    "\n",
    "# Extract a sprite (e.g., x=0, y=0, width=64, height=64)\n",
    "sprite = sprite_sheet.subsurface((0, 0, 64, 64))\n",
    "\n",
    "# Convert the pygame.Surface to RGB and Alpha arrays\n",
    "sprite_rgb = pygame.surfarray.array3d(sprite)  # Extract RGB\n",
    "sprite_alpha = pygame.surfarray.array_alpha(sprite)  # Extract Alpha\n",
    "\n",
    "# Transpose the RGB array for proper rendering in matplotlib\n",
    "sprite_rgb = np.transpose(sprite_rgb, (1, 0, 2))\n",
    "sprite_alpha = np.transpose(sprite_alpha, (1, 0))  # Transpose Alpha to match\n",
    "\n",
    "# Combine RGB and Alpha into a single RGBA array\n",
    "sprite_rgba = np.dstack((sprite_rgb, sprite_alpha))\n",
    "\n",
    "# Render the sprite inline with matplotlib\n",
    "plt.imshow(sprite_rgba)\n",
    "plt.axis(\"off\")\n",
    "plt.show()\n"
   ]
  },
  {
   "cell_type": "code",
   "execution_count": null,
   "id": "942051bc-059d-489b-a55c-cbf5ca33b156",
   "metadata": {},
   "outputs": [],
   "source": []
  },
  {
   "cell_type": "code",
   "execution_count": 9,
   "id": "c2da90fd-fd3c-4b00-a00b-26c928f4b393",
   "metadata": {},
   "outputs": [
    {
     "data": {
      "image/png": "[encoded data removed]",
      "text/plain": [
       "<Figure size 640x480 with 1 Axes>"
      ]
     },
     "metadata": {},
     "output_type": "display_data"
    }
   ],
   "source": [
    "import pygame\n",
    "import numpy as np\n",
    "import matplotlib.pyplot as plt\n",
    "from time import sleep\n",
    "\n",
    "# Initialize pygame\n",
    "pygame.init()\n",
    "\n",
    "# Create a minimal display surface (required for pygame.surfarray)\n",
    "pygame.display.set_mode((1, 1))\n",
    "\n",
    "# Load the sprite sheet with transparency\n",
    "sprite_sheet = pygame.image.load(\"./assets/sprites/effects.png\").convert_alpha()\n",
    "\n",
    "# Sprite dimensions\n",
    "sprite_width = 64\n",
    "sprite_height = 64\n",
    "sprites_per_row = 12\n",
    "rows = 4\n",
    "\n",
    "# Function to extract all 48 sprites\n",
    "def extract_sprites(sprite_sheet, sprite_width, sprite_height, sprites_per_row, rows):\n",
    "    sprites = []\n",
    "    for row in range(rows):\n",
    "        for col in range(sprites_per_row):\n",
    "            x = col * sprite_width\n",
    "            y = row * sprite_height\n",
    "            sprite = sprite_sheet.subsurface((x, y, sprite_width, sprite_height))\n",
    "            sprites.append(sprite)\n",
    "    return sprites\n",
    "\n",
    "# Extract all sprites\n",
    "sprites = extract_sprites(sprite_sheet, sprite_width, sprite_height, sprites_per_row, rows)\n",
    "\n",
    "# Set up matplotlib figure\n",
    "fig, ax = plt.subplots()\n",
    "ax.axis(\"off\")  # Turn off the axis\n",
    "\n",
    "# Add the initial image to the plot\n",
    "sprite_rgb = pygame.surfarray.array3d(sprites[0])  # Extract RGB of the first sprite\n",
    "sprite_alpha = pygame.surfarray.array_alpha(sprites[0])  # Extract Alpha\n",
    "sprite_rgb = np.transpose(sprite_rgb, (1, 0, 2))  # Transpose for matplotlib\n",
    "sprite_alpha = np.transpose(sprite_alpha, (1, 0))  # Transpose Alpha\n",
    "sprite_rgba = np.dstack((sprite_rgb, sprite_alpha))  # Combine into RGBA\n",
    "img = ax.imshow(sprite_rgba)  # Initial plot setup\n",
    "\n",
    "# Animate the sprites\n",
    "for sprite in sprites:\n",
    "    # Convert the sprite to an RGBA array\n",
    "    sprite_rgb = pygame.surfarray.array3d(sprite)  # Extract RGB\n",
    "    sprite_alpha = pygame.surfarray.array_alpha(sprite)  # Extract Alpha\n",
    "    sprite_rgb = np.transpose(sprite_rgb, (1, 0, 2))  # Transpose for matplotlib\n",
    "    sprite_alpha = np.transpose(sprite_alpha, (1, 0))  # Transpose Alpha\n",
    "    sprite_rgba = np.dstack((sprite_rgb, sprite_alpha))  # Combine into RGBA\n",
    "\n",
    "    # Update the image data\n",
    "    img.set_data(sprite_rgba)\n",
    "    plt.pause(1)  # Short delay to simulate animation\n",
    "\n",
    "plt.show()  # Finalize the plot\n"
   ]
  }
 ],
 "metadata": {
  "kernelspec": {
   "display_name": "Python 3 (ipykernel)",
   "language": "python",
   "name": "python3"
  },
  "language_info": {
   "codemirror_mode": {
    "name": "ipython",
    "version": 3
   },
   "file_extension": ".py",
   "mimetype": "text/x-python",
   "name": "python",
   "nbconvert_exporter": "python",
   "pygments_lexer": "ipython3",
   "version": "3.13.0"
  }
 },
 "nbformat": 4,
 "nbformat_minor": 5
}
